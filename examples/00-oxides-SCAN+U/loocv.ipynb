{
 "cells": [
  {
   "cell_type": "markdown",
   "metadata": {},
   "source": [
    "Copyright (c) Nongnuch Artrith (nartrith@atomistic.net) and Alexander Urban\n",
    "\n",
    "This Source Code Form is subject to the terms of the Mozilla Public License, v. 2.0. If a copy of the MPL was not distributed with this file, You can obtain one at http://mozilla.org/MPL/2.0/.\n",
    "\n",
    "This program is distributed in the hope that it will be useful, but WITHOUT ANY WARRANTY; without even the implied warranty of MERCHANTABILITY or FITNESS FOR A PARTICULAR PURPOSE. See the Mozilla Public License, v. 2.0, for more details."
   ]
  },
  {
   "cell_type": "code",
   "execution_count": null,
   "metadata": {},
   "outputs": [],
   "source": [
    "import functools\n",
    "import os\n",
    "import sys\n",
    "\n",
    "import numpy as np\n",
    "\n",
    "from scipy.optimize import least_squares\n",
    "\n",
    "from sklearn.decomposition import PCA\n",
    "from sklearn.cluster import KMeans\n",
    "\n",
    "import howru\n",
    "from howru.optimize import UOptimizer"
   ]
  },
  {
   "cell_type": "code",
   "execution_count": null,
   "metadata": {},
   "outputs": [],
   "source": [
    "elements = \"elements-SCAN+rvv10-energies.csv\"\n",
    "binaries = \"binary-oxides-SCAN+rvv10-energies.csv\"\n",
    "ternaries = \"ternary-oxides-SCAN+rvv10-energies.csv\"\n",
    "TM_species = ['Sc', 'Ti', 'V', 'Cr', 'Mn', 'Fe', 'Co', 'Ni', 'Cu', 'Zn']"
   ]
  },
  {
   "cell_type": "code",
   "execution_count": null,
   "metadata": {},
   "outputs": [],
   "source": [
    "l2 = 0.01\n",
    "l2 = 0.00\n",
    "n_components = 25\n",
    "n_clusters = 888\n",
    "U = [0.001, 1.83, 0.93, 2.77, 1.97, 1.83, 2.10, 0.43, 0.001, 0.001]\n",
    "Jain = None\n",
    "\n",
    "def objective3(U, opt, l2, R, dE_exp, weight, Jain):\n",
    "    E_comp = opt.compound_energies(U, Jain=Jain)\n",
    "    err = (R.dot(E_comp) - dE_exp)*weight\n",
    "    a = len(weight)/np.sum(weight)\n",
    "    return np.sqrt(np.mean(err**2))*a + l2*np.linalg.norm(U)\n",
    "\n",
    "opt = UOptimizer(TM_species, elements, binaries, ternaries, loocv=True)\n",
    "R, dE_exp, reactions, num_atoms = opt.reaction_matrix()\n",
    "\n",
    "stdout = sys.stdout\n",
    "sys.stdout = open(\"howru.out\", \"w\")\n",
    "\n",
    "for i in range(len(opt.loocv_comp)):\n",
    "    comp = opt.loocv_comp[i].composition.formula.replace(\" \", \"\")\n",
    "    print(\"\\n>>>> LOO-CV Composition: {} <<<<\".format(comp))\n",
    "    opt.reactions = opt.reactions_one_out[i]\n",
    "    \n",
    "    # PCA with selected number of PCs\n",
    "    pca = PCA(n_components=n_components)\n",
    "    components = pca.fit_transform(R)\n",
    "\n",
    "    # k-means clustering of the reactions to determine similarities\n",
    "    kmeans = KMeans(n_clusters=n_clusters).fit(components)\n",
    "    labels = kmeans.labels_\n",
    "\n",
    "    # calculate the weight of the reactions based on the frequency of their label\n",
    "    unique_labels = set(labels)\n",
    "    counts = {l: labels.tolist().count(l) for l in unique_labels}\n",
    "    label_weight = [1.0/counts[l] for l in labels]\n",
    "    \n",
    "    # optimize U values\n",
    "    f = functools.partial(objective3, opt=opt, l2=l2, R=R, \n",
    "                          dE_exp=dE_exp, weight=label_weight,\n",
    "                          Jain=Jain)\n",
    "    results = least_squares(f, U, bounds=(0.0, 5.0), ftol=1.0e-4, xtol=1.0e-3)\n",
    "  \n",
    "    # evaluate errors of the left-out reactions\n",
    "    U_opt = results.x\n",
    "    opt.print_U_values(U_opt)\n",
    "    opt.print_Jain()\n",
    "    opt.reactions = opt.reactions_one_in[i]\n",
    "    dirname = \"loocv-{}\".format(comp)\n",
    "    os.mkdir(dirname)\n",
    "    opt.eval_energy_errors(\n",
    "        U_opt, verbose=True,\n",
    "        fname_binary_oxide_reactions=os.path.join(\n",
    "            dirname, \"oxide-reactions-2.dat\"),\n",
    "        fname_ternary_oxide_reactions=os.path.join(\n",
    "            dirname, \"oxide-reactions-3.dat\"),\n",
    "        fname_binary_o2_reactions=os.path.join(\n",
    "            dirname, \"O2-reactions-2.dat\"),\n",
    "        fname_ternary_o2_reactions=os.path.join(\n",
    "            dirname, \"O2-reactions-3.dat\"),\n",
    "        fname_binary_oxide_formations=os.path.join(\n",
    "            dirname, \"formation-energies-2.dat\"),\n",
    "        fname_ternary_oxide_formations=os.path.join(\n",
    "            dirname, \"formation-energies-3.dat\"))\n",
    "    \n",
    "    opt.reactions = opt.all_reactions\n",
    "    \n",
    "sys.stdout = stdout"
   ]
  }
 ],
 "metadata": {
  "kernelspec": {
   "display_name": "Python 3",
   "language": "python",
   "name": "python3"
  },
  "language_info": {
   "codemirror_mode": {
    "name": "ipython",
    "version": 3
   },
   "file_extension": ".py",
   "mimetype": "text/x-python",
   "name": "python",
   "nbconvert_exporter": "python",
   "pygments_lexer": "ipython3",
   "version": "3.8.6"
  }
 },
 "nbformat": 4,
 "nbformat_minor": 4
}
